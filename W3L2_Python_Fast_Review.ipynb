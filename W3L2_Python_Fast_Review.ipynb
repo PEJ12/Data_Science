{
  "cells": [
    {
      "cell_type": "markdown",
      "metadata": {
        "id": "view-in-github",
        "colab_type": "text"
      },
      "source": [
        "<a href=\"https://colab.research.google.com/github/PEJ12/Data_Science/blob/main/W3L2_Python_Fast_Review.ipynb\" target=\"_parent\"><img src=\"https://colab.research.google.com/assets/colab-badge.svg\" alt=\"Open In Colab\"/></a>"
      ]
    },
    {
      "cell_type": "markdown",
      "metadata": {
        "id": "5QsguxWvUBV5"
      },
      "source": [
        "# PNUCSE 데이터과학입문  \n",
        "## 3주차 실습자료  \n",
        "### 교강사: 박영진, youngjinpark@pusan.ac.kr\n",
        "---\n",
        "\n",
        "## 실습 목표\n",
        "\n",
        "- Python Review\n",
        "- Types\n",
        "- Array\n"
      ]
    },
    {
      "cell_type": "markdown",
      "metadata": {
        "id": "eGDtkttOIQDj"
      },
      "source": [
        "#Python Review"
      ]
    },
    {
      "cell_type": "code",
      "execution_count": null,
      "metadata": {
        "id": "fWoZ1VSqcZRn",
        "colab": {
          "base_uri": "https://localhost:8080/"
        },
        "outputId": "4dc8b0f8-52e0-4a85-d1b4-fc912830689c"
      },
      "outputs": [
        {
          "output_type": "stream",
          "name": "stdout",
          "text": [
            "8.0\n",
            "8\n",
            "8\n",
            "1\n"
          ]
        }
      ],
      "source": [
        "# p.4\n",
        "print(64 / 8)\n",
        "print(64 // 8) #정수 나눗셈\n",
        "print(65//8)\n",
        "print(65 % 8)"
      ]
    },
    {
      "cell_type": "code",
      "execution_count": null,
      "metadata": {
        "id": "FJ99W1t2HLaz",
        "colab": {
          "base_uri": "https://localhost:8080/"
        },
        "outputId": "bfd892f3-4c58-4bd4-8151-6fa14be59fe9"
      },
      "outputs": [
        {
          "output_type": "stream",
          "name": "stdout",
          "text": [
            "168\n"
          ]
        }
      ],
      "source": [
        "# p.5\n",
        "hours_per_wk = 24 * 7\n",
        "print(hours_per_wk)"
      ]
    },
    {
      "cell_type": "code",
      "execution_count": null,
      "metadata": {
        "id": "dGtIDhRM0Iop",
        "colab": {
          "base_uri": "https://localhost:8080/",
          "height": 167
        },
        "outputId": "2a0bbce0-e7d6-409f-8fd0-273d741c84d7"
      },
      "outputs": [
        {
          "output_type": "error",
          "ename": "TypeError",
          "evalue": "abs() takes exactly one argument (2 given)",
          "traceback": [
            "\u001b[0;31m---------------------------------------------------------------------------\u001b[0m",
            "\u001b[0;31mTypeError\u001b[0m                                 Traceback (most recent call last)",
            "\u001b[0;32m<ipython-input-3-75f088a17271>\u001b[0m in \u001b[0;36m<cell line: 0>\u001b[0;34m()\u001b[0m\n\u001b[1;32m      1\u001b[0m \u001b[0;31m# p.8, 에러 발생 유도함.\u001b[0m\u001b[0;34m\u001b[0m\u001b[0;34m\u001b[0m\u001b[0m\n\u001b[0;32m----> 2\u001b[0;31m \u001b[0mabs\u001b[0m\u001b[0;34m(\u001b[0m\u001b[0;34m-\u001b[0m\u001b[0;36m1\u001b[0m\u001b[0;34m,\u001b[0m \u001b[0;36m2\u001b[0m\u001b[0;34m)\u001b[0m\u001b[0;34m\u001b[0m\u001b[0;34m\u001b[0m\u001b[0m\n\u001b[0m",
            "\u001b[0;31mTypeError\u001b[0m: abs() takes exactly one argument (2 given)"
          ]
        }
      ],
      "source": [
        "# p.8, 에러 발생 유도함.\n",
        "abs(-1, 2)"
      ]
    },
    {
      "cell_type": "code",
      "source": [
        "abs(-1.2)"
      ],
      "metadata": {
        "colab": {
          "base_uri": "https://localhost:8080/"
        },
        "id": "0AhRXILuxFbp",
        "outputId": "f0ac8c6a-6a8d-4cc1-9523-c9c2b751c67c"
      },
      "execution_count": null,
      "outputs": [
        {
          "output_type": "execute_result",
          "data": {
            "text/plain": [
              "1.2"
            ]
          },
          "metadata": {},
          "execution_count": 2
        }
      ]
    },
    {
      "cell_type": "code",
      "execution_count": null,
      "metadata": {
        "id": "akEjvHrZH1bj",
        "colab": {
          "base_uri": "https://localhost:8080/"
        },
        "outputId": "3aea8e5a-4ebd-46fe-e63d-c6de7d83868f"
      },
      "outputs": [
        {
          "output_type": "stream",
          "name": "stdout",
          "text": [
            "10\n"
          ]
        }
      ],
      "source": [
        "# p.8\n",
        "a = abs(-10)\n",
        "print(a)"
      ]
    },
    {
      "cell_type": "code",
      "execution_count": null,
      "metadata": {
        "id": "RvXw00LUH-9f",
        "colab": {
          "base_uri": "https://localhost:8080/"
        },
        "outputId": "dce15461-841c-47e0-8809-feacd01e23f7"
      },
      "outputs": [
        {
          "output_type": "stream",
          "name": "stdout",
          "text": [
            "12\n",
            "13\n"
          ]
        }
      ],
      "source": [
        "# p.8\n",
        "a = round(number=12.34) #반올림, 함수 이름에 마우스 갖다대면 설명나옴 (소수점 버린다고?)\n",
        "print(a)\n",
        "a = round(number=12.74)\n",
        "print(a)\n",
        "#a = round(num = 1.1) 이렇게 하면 에러남, number을 써라고 round에 정의되어있다."
      ]
    },
    {
      "cell_type": "code",
      "execution_count": null,
      "metadata": {
        "id": "FEk6CPgEgJ5k"
      },
      "outputs": [],
      "source": [
        "# p.8\n",
        "abs?"
      ]
    },
    {
      "cell_type": "markdown",
      "metadata": {
        "id": "a5KNxo_tIVzF"
      },
      "source": [
        "#Types"
      ]
    },
    {
      "cell_type": "code",
      "execution_count": null,
      "metadata": {
        "id": "tlhoSNruIPWW",
        "colab": {
          "base_uri": "https://localhost:8080/"
        },
        "outputId": "422e73fa-a06b-4e13-fb67-18787361998f"
      },
      "outputs": [
        {
          "output_type": "stream",
          "name": "stdout",
          "text": [
            "1.000005\n",
            "1.0000000000000004\n",
            "1.0\n"
          ]
        }
      ],
      "source": [
        "# p.10, float형 정밀도 확인을 위한 코드 / 안전하지않음\n",
        "#소수점 16자리 부분에서 값이 보장안된다.\n",
        "a = 1.000005\n",
        "b = 1.0000000000000005 #0이 15개\n",
        "c = 1.00000000000000005\n",
        "print(a)\n",
        "print(b) #0이 15개에 4\n",
        "print(c)"
      ]
    },
    {
      "cell_type": "code",
      "execution_count": null,
      "metadata": {
        "id": "LUTQl5RB1PyL",
        "colab": {
          "base_uri": "https://localhost:8080/"
        },
        "outputId": "88ca23ea-6b30-434c-d21c-ab57f0ca06dc"
      },
      "outputs": [
        {
          "output_type": "stream",
          "name": "stdout",
          "text": [
            "13.2\n"
          ]
        }
      ],
      "source": [
        "# p.11\n",
        "a = int('12')\n",
        "b = float('1.2')\n",
        "print(a + b)"
      ]
    },
    {
      "cell_type": "code",
      "source": [
        "# p.11\n",
        "a = '12'\n",
        "b = '1.2'\n",
        "print(a + b)"
      ],
      "metadata": {
        "colab": {
          "base_uri": "https://localhost:8080/"
        },
        "id": "Ge0THM73zI0r",
        "outputId": "c24ad29a-be69-4de9-9cf9-e2c4b2dec706"
      },
      "execution_count": null,
      "outputs": [
        {
          "output_type": "stream",
          "name": "stdout",
          "text": [
            "121.2\n"
          ]
        }
      ]
    },
    {
      "cell_type": "code",
      "execution_count": null,
      "metadata": {
        "id": "w6PnPdvk1kY2",
        "colab": {
          "base_uri": "https://localhost:8080/",
          "height": 186
        },
        "outputId": "15646c48-0b97-421f-b711-c1f3d37e05b7"
      },
      "outputs": [
        {
          "output_type": "error",
          "ename": "TypeError",
          "evalue": "unsupported operand type(s) for +: 'int' and 'str'",
          "traceback": [
            "\u001b[0;31m---------------------------------------------------------------------------\u001b[0m",
            "\u001b[0;31mTypeError\u001b[0m                                 Traceback (most recent call last)",
            "\u001b[0;32m<ipython-input-15-1a722bbfa8f6>\u001b[0m in \u001b[0;36m<cell line: 0>\u001b[0;34m()\u001b[0m\n\u001b[1;32m      1\u001b[0m \u001b[0;31m# p.11, 에러 발생 유도함.\u001b[0m\u001b[0;34m\u001b[0m\u001b[0;34m\u001b[0m\u001b[0m\n\u001b[1;32m      2\u001b[0m \u001b[0ma\u001b[0m \u001b[0;34m=\u001b[0m \u001b[0mstr\u001b[0m\u001b[0;34m(\u001b[0m\u001b[0;36m5\u001b[0m\u001b[0;34m)\u001b[0m\u001b[0;34m\u001b[0m\u001b[0;34m\u001b[0m\u001b[0m\n\u001b[0;32m----> 3\u001b[0;31m \u001b[0mprint\u001b[0m\u001b[0;34m(\u001b[0m\u001b[0;36m4\u001b[0m \u001b[0;34m+\u001b[0m \u001b[0ma\u001b[0m\u001b[0;34m)\u001b[0m\u001b[0;34m\u001b[0m\u001b[0;34m\u001b[0m\u001b[0m\n\u001b[0m",
            "\u001b[0;31mTypeError\u001b[0m: unsupported operand type(s) for +: 'int' and 'str'"
          ]
        }
      ],
      "source": [
        "# p.11, 에러 발생 유도함.\n",
        "a = str(5)\n",
        "print(4 + a)"
      ]
    },
    {
      "cell_type": "code",
      "execution_count": null,
      "metadata": {
        "id": "6K-8C6qM1zI2",
        "colab": {
          "base_uri": "https://localhost:8080/",
          "height": 167
        },
        "outputId": "7ad4d3a5-6096-49dd-bc6b-09f6e5deb7a6"
      },
      "outputs": [
        {
          "output_type": "error",
          "ename": "ValueError",
          "evalue": "could not convert string to float: 'one point two'",
          "traceback": [
            "\u001b[0;31m---------------------------------------------------------------------------\u001b[0m",
            "\u001b[0;31mValueError\u001b[0m                                Traceback (most recent call last)",
            "\u001b[0;32m<ipython-input-17-5ffe16be1ca6>\u001b[0m in \u001b[0;36m<cell line: 0>\u001b[0;34m()\u001b[0m\n\u001b[1;32m      1\u001b[0m \u001b[0;31m# p.12, 에러 발생 유도함.\u001b[0m\u001b[0;34m\u001b[0m\u001b[0;34m\u001b[0m\u001b[0m\n\u001b[0;32m----> 2\u001b[0;31m \u001b[0ma\u001b[0m \u001b[0;34m=\u001b[0m \u001b[0mfloat\u001b[0m\u001b[0;34m(\u001b[0m\u001b[0;34m'one point two'\u001b[0m\u001b[0;34m)\u001b[0m\u001b[0;34m\u001b[0m\u001b[0;34m\u001b[0m\u001b[0m\n\u001b[0m",
            "\u001b[0;31mValueError\u001b[0m: could not convert string to float: 'one point two'"
          ]
        }
      ],
      "source": [
        "# p.12, 에러 발생 유도함.\n",
        "a = float('one point two')"
      ]
    },
    {
      "cell_type": "code",
      "source": [
        "float(1)"
      ],
      "metadata": {
        "colab": {
          "base_uri": "https://localhost:8080/"
        },
        "id": "OhZmHXdhzgf2",
        "outputId": "b39cbf47-c750-4e0f-99cb-9d6b77987df2"
      },
      "execution_count": null,
      "outputs": [
        {
          "output_type": "execute_result",
          "data": {
            "text/plain": [
              "1.0"
            ]
          },
          "metadata": {},
          "execution_count": 18
        }
      ]
    },
    {
      "cell_type": "code",
      "execution_count": null,
      "metadata": {
        "id": "9Mh8KiV-2OI0",
        "colab": {
          "base_uri": "https://localhost:8080/"
        },
        "outputId": "89e7117a-ffa2-40df-9048-a08500b70d41"
      },
      "outputs": [
        {
          "output_type": "stream",
          "name": "stdout",
          "text": [
            "1\n",
            "1\n"
          ]
        }
      ],
      "source": [
        "# p.12\n",
        "a = int(1.2)\n",
        "print(a)\n",
        "a = int(1.999999) #소수점 전부 삭제\n",
        "print(a)"
      ]
    },
    {
      "cell_type": "code",
      "execution_count": null,
      "metadata": {
        "id": "lIzC7x5Y2SwO",
        "colab": {
          "base_uri": "https://localhost:8080/"
        },
        "outputId": "a10f7092-208a-4395-8e88-e556e2bbf96d"
      },
      "outputs": [
        {
          "output_type": "stream",
          "name": "stdout",
          "text": [
            "12.6\n",
            "12\n"
          ]
        }
      ],
      "source": [
        "# p.13, 에러 발생 유도함.\n",
        "x = 3\n",
        "y = '4'\n",
        "z = '5.6'\n",
        "\n",
        "#print(x + y) #에러\n",
        "#print(x + int(y + z)) #고쳐보기\n",
        "print(x + int(y) + float(z))\n",
        "print(x + int(y) + int(float(z)))\n",
        "#print(x + (int(float(y + z))))\n",
        "#print(str(x) + int(y)) #에러\n",
        "#print(y + float(z))"
      ]
    },
    {
      "cell_type": "code",
      "execution_count": null,
      "metadata": {
        "id": "0t70Oq7S2pe-",
        "colab": {
          "base_uri": "https://localhost:8080/"
        },
        "outputId": "bfb67a6f-f958-4723-9497-653d4fffa6df"
      },
      "outputs": [
        {
          "output_type": "stream",
          "name": "stdout",
          "text": [
            "<class 'int'>\n",
            "<class 'int'>\n",
            "<class 'str'>\n",
            "<class 'int'>\n"
          ]
        }
      ],
      "source": [
        "# p.14\n",
        "print(type(2))\n",
        "print(type(2 + 2))\n",
        "print(type('2'+ '2'))\n",
        "x = 2\n",
        "print(type(x))"
      ]
    },
    {
      "cell_type": "markdown",
      "metadata": {
        "id": "TBhKwNqp3GXs"
      },
      "source": [
        "#Arrays"
      ]
    },
    {
      "cell_type": "code",
      "source": [
        "import numpy as np\n",
        "\n",
        "arr1 = np.array([1,2,3])\n",
        "print(arr1)\n",
        "arr2 = np.array([4,5,6])\n",
        "print(arr2)\n",
        "print(arr1 + arr2)\n",
        "print(arr1 * arr2) #요소별로 연산하므로 arr1, arr2의 길이가 같아야함"
      ],
      "metadata": {
        "colab": {
          "base_uri": "https://localhost:8080/"
        },
        "id": "4t7JNAHQ03ZE",
        "outputId": "f9cd053e-b3cc-41f9-91a8-ea6f7a93a18e"
      },
      "execution_count": null,
      "outputs": [
        {
          "output_type": "stream",
          "name": "stdout",
          "text": [
            "[1 2 3]\n",
            "[4 5 6]\n",
            "[5 7 9]\n",
            "[ 4 10 18]\n"
          ]
        }
      ]
    },
    {
      "cell_type": "code",
      "source": [
        "arr = np.array([1,'2',3]) #하나의 array는 자동으로 같은 타입으로 저장\n",
        "print(arr)\n",
        "arr = np.array([1,2.0,3]) #다 실수로\n",
        "print(arr)"
      ],
      "metadata": {
        "colab": {
          "base_uri": "https://localhost:8080/"
        },
        "id": "WAGGwvOR1I8A",
        "outputId": "f5b4b737-ffcb-414e-a53e-10df457f949e"
      },
      "execution_count": null,
      "outputs": [
        {
          "output_type": "stream",
          "name": "stdout",
          "text": [
            "['1' '2' '3']\n",
            "[1. 2. 3.]\n"
          ]
        }
      ]
    },
    {
      "cell_type": "code",
      "execution_count": null,
      "metadata": {
        "id": "dZ-V5b_E3FhV",
        "colab": {
          "base_uri": "https://localhost:8080/"
        },
        "outputId": "9da38e08-d08e-4786-abd0-382ad745b1d1"
      },
      "outputs": [
        {
          "output_type": "execute_result",
          "data": {
            "text/plain": [
              "array(['noun', 'pronoun', 'verb', 'adverb', 'adjective', 'conjunction',\n",
              "       'preposition', 'interjection'],\n",
              "      dtype='<U12')"
            ]
          },
          "metadata": {},
          "execution_count": 3
        }
      ],
      "source": [
        "# p.18\n",
        "from datascience import * #리스트 형태로 array 만들고싶지 않을때 (numpy 대신)\n",
        "english_parts_of_speech = make_array(\"noun\", \"pronoun\", \"verb\", \"adverb\", \"adjective\", \"conjunction\", \"preposition\", \"interjection\")\n",
        "english_parts_of_speech"
      ]
    },
    {
      "cell_type": "code",
      "execution_count": null,
      "metadata": {
        "id": "hTzCvhJm4Lh-",
        "colab": {
          "base_uri": "https://localhost:8080/"
        },
        "outputId": "88e95266-c605-4829-ed4e-1230f6d60009"
      },
      "outputs": [
        {
          "output_type": "execute_result",
          "data": {
            "text/plain": [
              "array(['noun', 'pronoun', 'verb', 'adverb', 'adjective', 'conjunction',\n",
              "       'preposition', 'interjection'],\n",
              "      dtype='<U12')"
            ]
          },
          "metadata": {},
          "execution_count": 4
        }
      ],
      "source": [
        "# p.18\n",
        "import numpy as np\n",
        "eps_arr = np.array([\"noun\", \"pronoun\", \"verb\", \"adverb\", \"adjective\", \"conjunction\", \"preposition\", \"interjection\"])\n",
        "eps_arr\n",
        "#np.array : 리스트 형태로 넣어야함"
      ]
    },
    {
      "cell_type": "code",
      "execution_count": null,
      "metadata": {
        "id": "9-mY687X4YTh",
        "colab": {
          "base_uri": "https://localhost:8080/"
        },
        "outputId": "f09a0824-797a-4011-d97c-595d56e2e6ca"
      },
      "outputs": [
        {
          "output_type": "execute_result",
          "data": {
            "text/plain": [
              "array([ 13.6  ,  14.387,  14.585,  15.164])"
            ]
          },
          "metadata": {},
          "execution_count": 15
        }
      ],
      "source": [
        "# p.19\n",
        "baseline_high = 14.48\n",
        "highs = make_array(baseline_high - 0.880, baseline_high - 0.093, baseline_high + 0.105, baseline_high + 0.684)\n",
        "highs"
      ]
    },
    {
      "cell_type": "code",
      "execution_count": null,
      "metadata": {
        "id": "Sd7CB2Gr4gP-",
        "colab": {
          "base_uri": "https://localhost:8080/"
        },
        "outputId": "75d5aa1d-3fc4-48d2-e10f-238125deca13"
      },
      "outputs": [
        {
          "output_type": "execute_result",
          "data": {
            "text/plain": [
              "array([ 13.6  ,  14.387,  14.585,  15.164])"
            ]
          },
          "metadata": {},
          "execution_count": 6
        }
      ],
      "source": [
        "# p.19\n",
        "baseline_high = 14.48\n",
        "highs = np.array([baseline_high - 0.880, baseline_high - 0.093, baseline_high + 0.105, baseline_high + 0.684])\n",
        "highs #앞의 셀과 동일한 배열 생성됨"
      ]
    },
    {
      "cell_type": "code",
      "execution_count": null,
      "metadata": {
        "id": "js5lZgBF4l3d",
        "colab": {
          "base_uri": "https://localhost:8080/"
        },
        "outputId": "28cf764d-5c6c-4f97-f110-11891b2e331c"
      },
      "outputs": [
        {
          "output_type": "execute_result",
          "data": {
            "text/plain": [
              "array([ 2.128,  2.371,  2.874,  3.728])"
            ]
          },
          "metadata": {},
          "execution_count": 16
        }
      ],
      "source": [
        "# p.19\n",
        "baseline_low = 3.00\n",
        "lows = np.array([baseline_low - 0.872, baseline_low - 0.629, baseline_low - 0.126, baseline_low + 0.728])\n",
        "lows"
      ]
    },
    {
      "cell_type": "code",
      "execution_count": null,
      "metadata": {
        "id": "FtGhWPZg4y5Y",
        "colab": {
          "base_uri": "https://localhost:8080/"
        },
        "outputId": "2b5a8bc7-f34f-4804-b189-80914841c78e"
      },
      "outputs": [
        {
          "output_type": "execute_result",
          "data": {
            "text/plain": [
              "array([ 11.472,  12.016,  11.711,  11.436])"
            ]
          },
          "metadata": {},
          "execution_count": 17
        }
      ],
      "source": [
        "# p.20\n",
        "np.array([\n",
        "    highs.item(0) - lows.item(0),\n",
        "    highs.item(1) - lows.item(1),\n",
        "    highs.item(2) - lows.item(2),\n",
        "    highs.item(3) - lows.item(3)\n",
        "])\n",
        "\n",
        "highs - lows\n",
        "# 마지막 줄의 결과만 자동 출력됨.\n",
        "#np.array([...])는 생성되었지만, 셀의 마지막 줄이 아니라서 출력되지 않음."
      ]
    },
    {
      "cell_type": "code",
      "execution_count": null,
      "metadata": {
        "id": "BLpTmFdK5McK",
        "colab": {
          "base_uri": "https://localhost:8080/"
        },
        "outputId": "500fe427-bf96-4399-9acb-7199062a88e8"
      },
      "outputs": [
        {
          "output_type": "stream",
          "name": "stdout",
          "text": [
            "0.0\n",
            "6.0\n",
            "False\n",
            "True\n",
            "3\n"
          ]
        }
      ],
      "source": [
        "# p.21\n",
        "arr = np.array([0.0, 1.0, 2.0, 3.0])\n",
        "\n",
        "a = np.prod(arr) #요소들 다 곱하기\n",
        "print(a)\n",
        "\n",
        "b = np.sum(arr)\n",
        "print(b)\n",
        "\n",
        "c = np.all(arr) #모든게 다 t 이면 1 반환 (0.0만 False로 간주)\n",
        "print(c)\n",
        "\n",
        "d = np.any(arr)\n",
        "print(d)\n",
        "\n",
        "e = np.count_nonzero(arr)\n",
        "print(e)"
      ]
    },
    {
      "cell_type": "code",
      "execution_count": null,
      "metadata": {
        "id": "zXJXCRSd6B6o",
        "colab": {
          "base_uri": "https://localhost:8080/"
        },
        "outputId": "68b176c1-4a65-47b2-aa16-81764b99abdd"
      },
      "outputs": [
        {
          "output_type": "stream",
          "name": "stdout",
          "text": [
            "[0 1 2 3 4]\n",
            "[3 4 5 6 7 8]\n",
            "[3 4 5 6 7 8]\n",
            "[ 1.5  1.   0.5  0.  -0.5 -1.  -1.5]\n",
            "[ 1.5  1.   0.5  0.  -0.5 -1.  -1.5]\n"
          ]
        }
      ],
      "source": [
        "# p.23\n",
        "a = np.arange(5)\n",
        "print(a)\n",
        "\n",
        "b = np.arange(3, 9)\n",
        "print(b)\n",
        "\n",
        "c = np.arange(start=3, stop=9)\n",
        "print(c)\n",
        "\n",
        "#c = np.arange(start=3, end=9) 이건 에러\n",
        "#print(c)\n",
        "\n",
        "d = np.arange(1.5, -2, -0.5)\n",
        "print(d)\n",
        "\n",
        "e = np.arange(start=1.5, stop=-2, step=-0.5) #다 s로 시작하네\n",
        "print(e)"
      ]
    },
    {
      "cell_type": "code",
      "source": [
        "#내가 작성! 첫번째 문제, sum하는 게 중요!!!!!!\n",
        "arr1 = np.arange(1,10000,4)\n",
        "arr2 = arr1+2\n",
        "sum_inv_arr1 = sum(1/arr1)\n",
        "sum_inv_arr2 = sum(1/arr2)\n",
        "\n",
        "print(4*(sum_inv_arr1-sum_inv_arr2))"
      ],
      "metadata": {
        "colab": {
          "base_uri": "https://localhost:8080/"
        },
        "id": "gf96m8gOFeW6",
        "outputId": "6a618c34-d8f2-4697-c81e-d391b2e881bb"
      },
      "execution_count": null,
      "outputs": [
        {
          "output_type": "stream",
          "name": "stdout",
          "text": [
            "3.14139265359\n"
          ]
        }
      ]
    },
    {
      "cell_type": "code",
      "execution_count": null,
      "metadata": {
        "id": "CN1vRu4h7otw",
        "colab": {
          "base_uri": "https://localhost:8080/"
        },
        "outputId": "4e8a8631-7982-455b-b5f5-8f3d0e500e90"
      },
      "outputs": [
        {
          "output_type": "execute_result",
          "data": {
            "text/plain": [
              "array([ 1,  5,  9, 13, 17])"
            ]
          },
          "metadata": {},
          "execution_count": 3
        }
      ],
      "source": [
        "# p.25 이 예제 직접 작성해보기\n",
        "by_four_to_20 = np.arange(1, 20, 4)\n",
        "by_four_to_20"
      ]
    },
    {
      "cell_type": "code",
      "execution_count": null,
      "metadata": {
        "id": "YpISsnEL8PjS",
        "colab": {
          "base_uri": "https://localhost:8080/"
        },
        "outputId": "1432e282-2633-40c6-8ff5-99d9d2bb61ef"
      },
      "outputs": [
        {
          "output_type": "execute_result",
          "data": {
            "text/plain": [
              "array([   1,    5,    9, ..., 9989, 9993, 9997])"
            ]
          },
          "metadata": {},
          "execution_count": 43
        }
      ],
      "source": [
        "# p.25\n",
        "positive_term_denominators = np.arange(1, 10000, 4)\n",
        "positive_term_denominators"
      ]
    },
    {
      "cell_type": "code",
      "execution_count": null,
      "metadata": {
        "id": "RR6ipE108TYJ",
        "colab": {
          "base_uri": "https://localhost:8080/"
        },
        "outputId": "fcb597bf-46ed-41c1-c302-0fec32610216"
      },
      "outputs": [
        {
          "output_type": "execute_result",
          "data": {
            "text/plain": [
              "3.1413926535917955"
            ]
          },
          "metadata": {},
          "execution_count": 44
        }
      ],
      "source": [
        "# p.25\n",
        "positive_terms = 1 / positive_term_denominators\n",
        "negative_terms = 1 / (positive_term_denominators + 2)\n",
        "\n",
        "4 * (sum(positive_terms) - sum(negative_terms))#정밀도를 만까지해서 오차 존재 (3.141592...)"
      ]
    },
    {
      "cell_type": "code",
      "source": [
        "#내가 작성\n",
        "arr2 = np.arange(2,10000001,2)\n",
        "arr1 = arr2-1\n",
        "arr3 = arr2+1\n",
        "\n",
        "n1 = np.prod(arr2/arr1) #첫 항\n",
        "n2 = np.prod(arr2/arr3) #두번째 항\n",
        "print(2*n1*n2)"
      ],
      "metadata": {
        "colab": {
          "base_uri": "https://localhost:8080/"
        },
        "id": "lKyt5sl8HRhG",
        "outputId": "5f077c5e-591e-4003-99e9-0a98bc9c3e6c"
      },
      "execution_count": null,
      "outputs": [
        {
          "output_type": "stream",
          "name": "stdout",
          "text": [
            "3.14159249651\n"
          ]
        }
      ]
    },
    {
      "cell_type": "code",
      "execution_count": null,
      "metadata": {
        "id": "CPe4roXB8hMG",
        "colab": {
          "base_uri": "https://localhost:8080/"
        },
        "outputId": "f21f981d-4c53-49ed-8d06-4ca6f3a7d3c7"
      },
      "outputs": [
        {
          "output_type": "execute_result",
          "data": {
            "text/plain": [
              "np.float64(3.1415910827951143)"
            ]
          },
          "metadata": {},
          "execution_count": 15
        }
      ],
      "source": [
        "# p.26 직접 해보기\n",
        "even = np.arange(2, 1000001, 2)\n",
        "one_below_even = even - 1\n",
        "one_above_even = even + 1\n",
        "\n",
        "2 * np.prod(even/one_below_even) * np.prod(even/one_above_even)"
      ]
    }
  ],
  "metadata": {
    "colab": {
      "provenance": [],
      "include_colab_link": true
    },
    "kernelspec": {
      "display_name": "Python 3",
      "name": "python3"
    },
    "language_info": {
      "name": "python"
    }
  },
  "nbformat": 4,
  "nbformat_minor": 0
}